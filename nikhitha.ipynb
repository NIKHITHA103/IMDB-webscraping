{
  "nbformat": 4,
  "nbformat_minor": 0,
  "metadata": {
    "colab": {
      "name": "nikhitha",
      "provenance": [],
      "collapsed_sections": [],
      "authorship_tag": "ABX9TyO8KtqZX19YKaVTXpyTAbl1",
      "include_colab_link": true
    },
    "kernelspec": {
      "name": "python3",
      "display_name": "Python 3"
    },
    "language_info": {
      "name": "python"
    }
  },
  "cells": [
    {
      "cell_type": "markdown",
      "metadata": {
        "id": "view-in-github",
        "colab_type": "text"
      },
      "source": [
        "<a href=\"https://colab.research.google.com/github/NIKHITHA103/IMDB-webscraping/blob/main/nikhitha.ipynb\" target=\"_parent\"><img src=\"https://colab.research.google.com/assets/colab-badge.svg\" alt=\"Open In Colab\"/></a>"
      ]
    },
    {
      "cell_type": "code",
      "metadata": {
        "id": "fT-WsMQF8sSn"
      },
      "source": [
        "import requests\n",
        "from bs4 import BeautifulSoup\n",
        "import pandas as pd\n",
        "import time"
      ],
      "execution_count": null,
      "outputs": []
    },
    {
      "cell_type": "code",
      "metadata": {
        "id": "ayh_pILW85uy"
      },
      "source": [
        "url='https://www.imdb.com/search/title/?release_date=2021-01-01,2021-12-31&sort=num_votes,desc&start=51&ref_=adv_nxt'\n",
        "req=requests.get(url)\n",
        "print(req)\n",
        "soup=BeautifulSoup(req.text,'html')"
      ],
      "execution_count": null,
      "outputs": []
    },
    {
      "cell_type": "code",
      "metadata": {
        "id": "loT0aMMP857U"
      },
      "source": [
        "soup.find('span')"
      ],
      "execution_count": null,
      "outputs": []
    },
    {
      "cell_type": "code",
      "metadata": {
        "id": "_ynHSCHF86FK"
      },
      "source": [
        "soup.findAll('span')"
      ],
      "execution_count": null,
      "outputs": []
    },
    {
      "cell_type": "code",
      "metadata": {
        "id": "dR60Q9kQ9jy3"
      },
      "source": [
        "#movie name\n",
        "mv_nm_tag=soup.find('h3',attrs={'class':'lister-item-header'}).a.text\n",
        "mv_nm_tag"
      ],
      "execution_count": null,
      "outputs": []
    },
    {
      "cell_type": "code",
      "metadata": {
        "id": "ygViPT1q9kEr"
      },
      "source": [
        "#year\n",
        "soup.find('span',attrs={'class':'lister-item-year text-muted unbold'}).text\n"
      ],
      "execution_count": null,
      "outputs": []
    },
    {
      "cell_type": "code",
      "metadata": {
        "id": "WXcNA8PQ9kUq"
      },
      "source": [
        "#rating\n",
        "soup.find('div',attrs={'class':'inline-block ratings-imdb-rating'}).text.replace('\\n\\n','').replace('\\n','')"
      ],
      "execution_count": null,
      "outputs": []
    },
    {
      "cell_type": "code",
      "metadata": {
        "id": "36DlclwG9kin"
      },
      "source": [
        "#certificate\n",
        "soup.find('span',attrs={'class':'certificate'}).text"
      ],
      "execution_count": null,
      "outputs": []
    },
    {
      "cell_type": "code",
      "metadata": {
        "id": "tkZGq9UK9kyY"
      },
      "source": [
        "#duration\n",
        "soup.find('span',attrs={'class':'runtime'}).text"
      ],
      "execution_count": null,
      "outputs": []
    },
    {
      "cell_type": "code",
      "metadata": {
        "id": "X1svFDLt9lA1"
      },
      "source": [
        "#genre\n",
        "soup.find('span',attrs={'class':'genre'}).text.replace('\\n','')"
      ],
      "execution_count": null,
      "outputs": []
    },
    {
      "cell_type": "code",
      "metadata": {
        "id": "qXFkCch49lOv"
      },
      "source": [
        "#metascore\n",
        "soup.find('span',attrs={'class':'metascore'}).text"
      ],
      "execution_count": null,
      "outputs": []
    },
    {
      "cell_type": "code",
      "metadata": {
        "id": "ESPRjegv9ldP"
      },
      "source": [
        "#vote\n",
        "soup.find('p',attrs={'class':'sort-num_votes-visible'}).text.split(':')[1].strip()"
      ],
      "execution_count": null,
      "outputs": []
    },
    {
      "cell_type": "code",
      "metadata": {
        "id": "A2aj6dI5PeGk"
      },
      "source": [
        "import time\n",
        "base_url='https://www.imdb.com/search/title/?release_date=2021-01-01,2021-12-31&sort=num_votes,desc&start=51&ref_=adv_nxt'\n",
        "names=[]\n",
        "release_year=[]\n",
        "certificate=[]\n",
        "duration=[]\n",
        "genre=[]\n",
        "rating=[]\n",
        "metascore=[]\n",
        "votes=[]\n",
        "\n",
        "for i in range (1,101,50):\n",
        "  time.sleep(3)\n",
        "  url=base_url+str(i)+'&ref_=adv_nxt'\n",
        "  req=requests.get(url)\n",
        "  soup=BeautifulSoup(req.text,'html')\n",
        "  \n",
        "\n",
        "  # movies into list\n",
        "  movies=soup.findAll('div',attrs={'class':'lister-item-content'})\n",
        "\n",
        "  for mov in movies:\n",
        "    #movie name\n",
        "    mov_name=mov.find('h3',attrs={'class':'lister-item-header'}).a.text\n",
        "    names.append(mov_name)\n",
        "\n",
        "    #year\n",
        "    year=mov.find('span',attrs={'class':'lister-item-year text-muted unbold'}).text\n",
        "    release_year.append(year)\n",
        "\n",
        "    #certificate\n",
        "    c=mov.find('span',attrs={'class':'certificate'})\n",
        "    if c is None:\n",
        "      certificate.append(\"nill\")\n",
        "    else:\n",
        "      certificate.append(c.text) \n",
        "\n",
        "    # Duration\n",
        "    d=mov.find('span',attrs={'class':'runtime'})  \n",
        "    if d is None:\n",
        "      duration.append(\"nill\")\n",
        "    else:\n",
        "      duration.append(d.text)\n",
        "\n",
        "    #rating\n",
        "    r=mov.find('div',attrs={'class':'inline-block ratings-imdb-rating'}).strong.text\n",
        "    rating.append(r)\n",
        "\n",
        "    #genre\n",
        "    g=mov.find('span',attrs={'class':'genre'}).text.strip\n",
        "    genre.append(genre)\n",
        "\n",
        "\n",
        "    #metascore\n",
        "    meta=mov.find('div',attrs={'class':'inline-block ratings-metascore'})\n",
        "    if meta is None:\n",
        "      metascore.append('nill')\n",
        "    else:\n",
        "      metascore.append(meta.span.text.strip())\n",
        "\n",
        "    #votes\n",
        "    v=mov.find('span',attrs={'name':'nv'}).text\n",
        "    votes.append(v)\n",
        "\n",
        "\n",
        "\n",
        "\n"
      ],
      "execution_count": null,
      "outputs": []
    },
    {
      "cell_type": "code",
      "metadata": {
        "id": "BODFKzpSPeVY"
      },
      "source": [
        "# length\n",
        "print(len(names))\n",
        "print(len(release_year))\n",
        "print(len(genre))\n",
        "print(len(metascore))\n",
        "print(len(votes))\n",
        "print(len(duration))\n",
        "print(len(certificate))\n",
        "print(len(rating))\n"
      ],
      "execution_count": null,
      "outputs": []
    },
    {
      "cell_type": "code",
      "metadata": {
        "id": "uB_HBMvZPekp"
      },
      "source": [
        "data=pd.DataFrame({'movie':names,\n",
        "                   'released_year':release_year,\n",
        "                   'certificate':certificate,\n",
        "                   'duration':duration,\n",
        "                   'genre':genre,\n",
        "                   'rating':rating,\n",
        "                   'metascore':metascore,\n",
        "                   'votes':votes})"
      ],
      "execution_count": null,
      "outputs": []
    },
    {
      "cell_type": "code",
      "metadata": {
        "id": "8vjUBz6BPeyo"
      },
      "source": [
        "data.to.csv('IMDB-webscraping.csv',index=False)\n",
        "data"
      ],
      "execution_count": null,
      "outputs": []
    },
    {
      "cell_type": "code",
      "metadata": {
        "id": "1iDmA0mnPfBQ"
      },
      "source": [
        ""
      ],
      "execution_count": null,
      "outputs": []
    },
    {
      "cell_type": "code",
      "metadata": {
        "id": "xI7SXewDPfPp"
      },
      "source": [
        ""
      ],
      "execution_count": null,
      "outputs": []
    },
    {
      "cell_type": "code",
      "metadata": {
        "id": "MkfZGxxLPfcM"
      },
      "source": [
        ""
      ],
      "execution_count": null,
      "outputs": []
    },
    {
      "cell_type": "code",
      "metadata": {
        "id": "olKWeP7T9lqX"
      },
      "source": [
        ""
      ],
      "execution_count": null,
      "outputs": []
    },
    {
      "cell_type": "code",
      "metadata": {
        "id": "dgSSv9Ig9l4Y"
      },
      "source": [
        ""
      ],
      "execution_count": null,
      "outputs": []
    },
    {
      "cell_type": "code",
      "metadata": {
        "id": "xlYhWTrp86OU"
      },
      "source": [
        ""
      ],
      "execution_count": null,
      "outputs": []
    }
  ]
}